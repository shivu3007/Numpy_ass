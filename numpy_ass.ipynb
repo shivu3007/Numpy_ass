{
 "cells": [
  {
   "cell_type": "code",
   "execution_count": 22,
   "id": "c2b7ff4e-63a6-4227-9c8d-ecee98d6a288",
   "metadata": {},
   "outputs": [],
   "source": [
    "import numpy as np\n",
    "import pandas as pd"
   ]
  },
  {
   "cell_type": "code",
   "execution_count": 23,
   "id": "3bdac8d3-f9bf-4be1-9b48-2d68895b1850",
   "metadata": {},
   "outputs": [
    {
     "data": {
      "text/plain": [
       "dtype('int32')"
      ]
     },
     "execution_count": 23,
     "metadata": {},
     "output_type": "execute_result"
    }
   ],
   "source": [
    "# Q1. Create a NumPy array 'arr' of integers from 0 to 5 and print its data type.\n",
    "\n",
    "arr=np.arange(0,6,1)\n",
    "arr.dtype"
   ]
  },
  {
   "cell_type": "code",
   "execution_count": 25,
   "id": "99fee81d-eef8-402d-a503-a0616df6c3b2",
   "metadata": {},
   "outputs": [
    {
     "data": {
      "text/plain": [
       "dtype('float64')"
      ]
     },
     "execution_count": 25,
     "metadata": {},
     "output_type": "execute_result"
    }
   ],
   "source": [
    "'''q2.  Given a NumPy array 'arr', check if its data type is float64.\n",
    "arr = np.array([1.5, 2.6, 3.7])''' \n",
    "\n",
    "arr=np.array([1.5, 2.6, 3.7])\n",
    "arr.dtype                "
   ]
  },
  {
   "cell_type": "code",
   "execution_count": 8,
   "id": "353f8d9f-be3c-4798-88f3-1147a70ba0c2",
   "metadata": {},
   "outputs": [
    {
     "data": {
      "text/plain": [
       "dtype('complex128')"
      ]
     },
     "execution_count": 8,
     "metadata": {},
     "output_type": "execute_result"
    }
   ],
   "source": [
    "'''q3. Create a NumPy array 'arr' with a data type of complex128 containing three complex numbers.'''\n",
    "arr=np.array([2+1j, 3+1j,4+1j])\n",
    "arr.dtype"
   ]
  },
  {
   "cell_type": "code",
   "execution_count": 9,
   "id": "b1f34740-fe81-49c5-8cd7-fa6188f4ccc5",
   "metadata": {},
   "outputs": [
    {
     "data": {
      "text/plain": [
       "array([0., 1., 2., 3., 4., 5.], dtype=float32)"
      ]
     },
     "execution_count": 9,
     "metadata": {},
     "output_type": "execute_result"
    }
   ],
   "source": [
    "'''q4 Convert an existing NumPy array 'arr' of integers to float32 data type.'''\n",
    "arr=np.arange(0,6,1)\n",
    "arr.astype('float32')"
   ]
  },
  {
   "cell_type": "code",
   "execution_count": 26,
   "id": "e4f54b29-8e80-4351-bf4f-0c192b0a0bb9",
   "metadata": {},
   "outputs": [
    {
     "name": "stdout",
     "output_type": "stream",
     "text": [
      "float64\n"
     ]
    },
    {
     "data": {
      "text/plain": [
       "array([1.5, 2.6, 3.7], dtype=float32)"
      ]
     },
     "execution_count": 26,
     "metadata": {},
     "output_type": "execute_result"
    }
   ],
   "source": [
    "''''Q'5. Given a NumPy array 'arr' with float64 data type, convert it to float32 to reduce decimal precision.'''\n",
    "\n",
    "arr=np.array([1.5, 2.6, 3.7])\n",
    "print(arr.dtype)\n",
    "arr.astype('float32')"
   ]
  },
  {
   "cell_type": "code",
   "execution_count": 27,
   "id": "980cc125-d249-4cff-a3da-68678b8b26c1",
   "metadata": {},
   "outputs": [
    {
     "name": "stdout",
     "output_type": "stream",
     "text": [
      "[1.5 2.6 3.7]\n",
      "((3,), 3, dtype('float64'))\n"
     ]
    }
   ],
   "source": [
    "'''Q6. Write a function array_attributes that takes a NumPy array as input and returns its shape, size, and data \n",
    "type.'''\n",
    "\n",
    "\n",
    "def array_attributes(arr):\n",
    "    shape = arr.shape\n",
    "    size = arr.size\n",
    "    dtype = arr.dtype\n",
    "    return shape, size, dtype  \n",
    "arr=np.array([1.5, 2.6, 3.7])\n",
    "print(arr)\n",
    "print(array_attributes(arr))    \n",
    "\n"
   ]
  },
  {
   "cell_type": "code",
   "execution_count": 28,
   "id": "6091d991-e8df-4535-966b-040c27124ea2",
   "metadata": {},
   "outputs": [
    {
     "name": "stdout",
     "output_type": "stream",
     "text": [
      "[1.5 2.6 3.7]\n",
      "1\n"
     ]
    }
   ],
   "source": [
    "'''Q7. Create a function array_dimension that takes a NumPy array as input and returns its dimensionality'''\n",
    "\n",
    "def array_attributes(arr):\n",
    "    dimension=arr.ndim\n",
    "    return dimension\n",
    "arr=np.array([1.5, 2.6, 3.7])\n",
    "print(arr)\n",
    "print(array_attributes(arr))     "
   ]
  },
  {
   "cell_type": "code",
   "execution_count": 29,
   "id": "e0892bc8-f844-4cbe-a3c3-b73d25ca92c8",
   "metadata": {},
   "outputs": [
    {
     "name": "stdout",
     "output_type": "stream",
     "text": [
      "[1.5 2.6 3.7]\n",
      "(3, 24)\n"
     ]
    }
   ],
   "source": [
    "''' Q8. Design a function item_size_info that takes a NumPy array as input and returns the item size and the total \n",
    "size in bytes.'''\n",
    "\n",
    "def array_attributes(arr):\n",
    "    itemsize=arr.size\n",
    "    bytes=arr.nbytes\n",
    "    return itemsize, bytes\n",
    "arr=np.array([1.5, 2.6, 3.7])\n",
    "print(arr)\n",
    "print(array_attributes(arr))   \n"
   ]
  },
  {
   "cell_type": "code",
   "execution_count": 30,
   "id": "2bd610ee-34dc-4bbb-a37a-cea2cca148bd",
   "metadata": {},
   "outputs": [
    {
     "name": "stdout",
     "output_type": "stream",
     "text": [
      "[1.5 2.6 3.7]\n",
      "(8,)\n"
     ]
    }
   ],
   "source": [
    "'''Q 9. Create a function array_strides that takes a NumPy array as input and returns the strides of the array.'''\n",
    "\n",
    "def array_strides(arr):\n",
    "     arr_strides= arr.strides\n",
    "     return arr_strides\n",
    "arr=np.array([1.5, 2.6, 3.7])\n",
    "print(arr)\n",
    "print(array_strides(arr))  \n"
   ]
  },
  {
   "cell_type": "code",
   "execution_count": 31,
   "id": "fb905b86-6173-4f2f-b380-f954c0228112",
   "metadata": {},
   "outputs": [
    {
     "name": "stdout",
     "output_type": "stream",
     "text": [
      "Array shape: (3, 3)\n",
      "Array strides: (12, 4)\n"
     ]
    }
   ],
   "source": [
    "'''Q 10. Design a function shape_stride_relationship that takes a NumPy array as input and returns the shape and strides of the array.'''\n",
    "import numpy as np\n",
    "def shape_stride_relationship(arr):\n",
    "    return arr.shape, arr.strides\n",
    "arr = np.array([[1, 2, 3], [4, 5, 6], [7, 8, 9]])\n",
    "shape, strides = shape_stride_relationship(arr)\n",
    "print(\"Array shape:\", shape)\n",
    "print(\"Array strides:\", strides)"
   ]
  },
  {
   "cell_type": "code",
   "execution_count": 32,
   "id": "5384f880-4b64-4dc3-b92d-c1bb98617d83",
   "metadata": {},
   "outputs": [
    {
     "name": "stdout",
     "output_type": "stream",
     "text": [
      "[0. 0. 0. 0. 0. 0.]\n"
     ]
    }
   ],
   "source": [
    "'''Q 11 Create a function `create_zeros_array` that takes an integer `n` as input and returns a NumPy array of \n",
    "zeros with `n` elements.'''\n",
    "\n",
    "def create_zeros_array(n):\n",
    "   arr=np.zeros(n)\n",
    "   return arr\n",
    "print(create_zeros_array(6))"
   ]
  },
  {
   "cell_type": "code",
   "execution_count": 33,
   "id": "67ccb7c5-93d9-4aa1-88b6-8eacdcef971e",
   "metadata": {},
   "outputs": [
    {
     "name": "stdout",
     "output_type": "stream",
     "text": [
      "[[1. 1. 1. 1.]\n",
      " [1. 1. 1. 1.]\n",
      " [1. 1. 1. 1.]]\n"
     ]
    }
   ],
   "source": [
    "# Q 12. Write a function `create_ones_matrix` that takes integers `rows` and `cols` as inputs and generates a 2D NumPy array filled with ones of size `rows x cols`.\n",
    "def create_ones_matrix(rows,cols):\n",
    "   arr=np.ones((rows,cols))\n",
    "   return arr\n",
    "print(create_ones_matrix(3,4))\n"
   ]
  },
  {
   "cell_type": "code",
   "execution_count": 34,
   "id": "37ec39c9-0f24-4f13-a5de-c82aa87d8768",
   "metadata": {},
   "outputs": [
    {
     "name": "stdout",
     "output_type": "stream",
     "text": [
      "[ 0  2  4  6  8 10]\n"
     ]
    }
   ],
   "source": [
    "'''Q 13 Write a function `generate_range_array` that takes three integers start, stop, and step as arguments and \n",
    "creates a NumPy array with a range starting from `start`, ending at stop (exclusive), and with the specified \n",
    "`step`.\n",
    "'''\n",
    "def generate_range_array(start, stop, step):\n",
    "   arr=np.arange(start, stop, step)\n",
    "   return arr\n",
    "print(generate_range_array(0, 11, 2))\n"
   ]
  },
  {
   "cell_type": "code",
   "execution_count": 35,
   "id": "4b149b38-e7b6-4466-9c67-6a1545c29071",
   "metadata": {},
   "outputs": [
    {
     "name": "stdout",
     "output_type": "stream",
     "text": [
      "[ 1.          2.22222222  3.44444444  4.66666667  5.88888889  7.11111111\n",
      "  8.33333333  9.55555556 10.77777778 12.        ]\n"
     ]
    }
   ],
   "source": [
    "'''14. Design a function `generate_linear_space` that takes two floats `start`, `stop`, and an integer `num` as \n",
    "arguments and generates a NumPy array with num equally spaced values between `start` and `stop` \n",
    "(inclusive).'''\n",
    "\n",
    "def generate_linear_space(start, stop, num):\n",
    "   arr=np.linspace(start, stop, num)\n",
    "   return arr\n",
    "print(generate_linear_space(1,12,10))"
   ]
  },
  {
   "cell_type": "code",
   "execution_count": 36,
   "id": "8829daf1-78b4-4a19-8599-a2d053771039",
   "metadata": {},
   "outputs": [
    {
     "name": "stdout",
     "output_type": "stream",
     "text": [
      "[[1. 0. 0. 0. 0.]\n",
      " [0. 1. 0. 0. 0.]\n",
      " [0. 0. 1. 0. 0.]\n",
      " [0. 0. 0. 1. 0.]\n",
      " [0. 0. 0. 0. 1.]]\n"
     ]
    }
   ],
   "source": [
    "''' Q 15 Create a function `create_identity_matrix` that takes an integer `n` as input and generates a square \n",
    "identity matrix of size `n x n` using `numpy.eye`.'''\n",
    "\n",
    "def create_identity_matrix(n):\n",
    "    arr=np.eye(n)\n",
    "    return arr\n",
    "print(create_identity_matrix(5))\n"
   ]
  },
  {
   "cell_type": "code",
   "execution_count": 37,
   "id": "23a84220-6b83-4e41-8607-c1d6d07a3519",
   "metadata": {},
   "outputs": [
    {
     "data": {
      "text/plain": [
       "array([1, 2, 3, 4, 5, 6, 7, 8])"
      ]
     },
     "execution_count": 37,
     "metadata": {},
     "output_type": "execute_result"
    }
   ],
   "source": [
    " # Q16. Write a function that takes a Python list and converts it into a NumPy array.\n",
    "\n",
    "l=[1,2,3,4,5,6,7,8]\n",
    "arr=np.array(l)\n",
    "arr"
   ]
  },
  {
   "cell_type": "code",
   "execution_count": 38,
   "id": "d073e5eb-c218-493e-882c-934f281fe217",
   "metadata": {},
   "outputs": [
    {
     "name": "stdout",
     "output_type": "stream",
     "text": [
      "[[100   2   3]\n",
      " [  4   5   6]]\n",
      "**********************\n",
      "[[100   2   3]\n",
      " [  4   5   6]]\n"
     ]
    }
   ],
   "source": [
    "''' Q 17 Create a NumPy array and demonstrate the use of `numpy.view` to create a new array object with the \n",
    "same data'''\n",
    "\n",
    "original_array = np.array([[1, 2, 3], [4, 5, 6]])\n",
    "view_array = original_array.view()\n",
    "view_array[0, 0] = 100\n",
    "print(original_array)\n",
    "print(\"**********************\")\n",
    "print(view_array)\n"
   ]
  },
  {
   "cell_type": "code",
   "execution_count": 39,
   "id": "2d6ce5c5-f49d-4dd2-bdb1-3b8cc57db310",
   "metadata": {},
   "outputs": [
    {
     "name": "stdout",
     "output_type": "stream",
     "text": [
      "[[1 2]\n",
      " [3 4]\n",
      " [5 6]]\n"
     ]
    }
   ],
   "source": [
    "#  18. Write a function that takes two NumPy arrays and concatenates them along a specified axis.\n",
    "import numpy as np\n",
    "def concatenate_arrays(arr1, arr2, axis=0):\n",
    "  return np.concatenate((arr1, arr2), axis=0)\n",
    "arr1 = np.array([[1, 2], [3, 4]])\n",
    "arr2 = np.array([[5, 6]])\n",
    "concatenated_array = np.concatenate((arr1, arr2), axis=0)\n",
    "print(concatenated_array)\n"
   ]
  },
  {
   "cell_type": "code",
   "execution_count": 40,
   "id": "b6a91a1d-a95e-44e0-aa7c-6be2875317bf",
   "metadata": {},
   "outputs": [
    {
     "name": "stdout",
     "output_type": "stream",
     "text": [
      "Array 1:\n",
      "[[1 2 3]\n",
      " [4 5 6]]\n",
      "\n",
      "Array 2:\n",
      "[[ 7  8]\n",
      " [ 9 10]]\n",
      "\n",
      "Concatenated array horizontally:\n",
      "[[ 1  2  3  7  8]\n",
      " [ 4  5  6  9 10]]\n"
     ]
    }
   ],
   "source": [
    "'''19. Create two NumPy arrays with different shapes and concatenate them horizontally using `numpy.concatenate`.'''\n",
    "\n",
    "arr1 = np.array([[1, 2, 3],\n",
    "                 [4, 5, 6]])\n",
    "arr2 = np.array([[7, 8],\n",
    "                 [9, 10]])\n",
    "concatenated_array = np.concatenate((arr1, arr2), axis=1)\n",
    "\n",
    "print(\"Array 1:\")\n",
    "print(arr1)\n",
    "print(\"\\nArray 2:\")\n",
    "print(arr2)\n",
    "print(\"\\nConcatenated array horizontally:\")\n",
    "print(concatenated_array)\n"
   ]
  },
  {
   "cell_type": "code",
   "execution_count": 41,
   "id": "8133300f-48c1-4b8f-b4af-b37b8bf569f4",
   "metadata": {},
   "outputs": [
    {
     "name": "stdout",
     "output_type": "stream",
     "text": [
      "[[ 1  2]\n",
      " [ 3  4]\n",
      " [ 5  6]\n",
      " [ 7  8]\n",
      " [ 9 10]\n",
      " [11 12]]\n"
     ]
    }
   ],
   "source": [
    "'''20. Write a function that vertically stacks multiple NumPy arrays given as a list.'''\n",
    "def stack_arrays_vertically(arrays):\n",
    "    return np.vstack(arrays)\n",
    "arr1 = np.array([[1, 2], [3, 4]])\n",
    "arr2 = np.array([[5, 6], [7, 8]])\n",
    "arr3 = np.array([[9, 10], [11, 12]])\n",
    "\n",
    "stacked_array = stack_arrays_vertically([arr1, arr2, arr3])\n",
    "print(stacked_array)\n"
   ]
  },
  {
   "cell_type": "code",
   "execution_count": 42,
   "id": "68b2343b-206c-4899-9545-558d36b1ca0f",
   "metadata": {},
   "outputs": [
    {
     "name": "stdout",
     "output_type": "stream",
     "text": [
      "[ 0  5 10 15 20 25 30 35 40]\n"
     ]
    }
   ],
   "source": [
    "\"21. Write a Python function using NumPy to create an array of integers within a specified range (inclusive) with a given step size.\"\n",
    "\n",
    "def create_integer_array(start, stop, step):\n",
    "    return np.arange(start, stop+1, step, dtype=int)\n",
    "start = 0\n",
    "stop = 40\n",
    "step = 5\n",
    "result = create_integer_array(start, stop, step)\n",
    "print(result)"
   ]
  },
  {
   "cell_type": "code",
   "execution_count": 11,
   "id": "3f7ca46c-bafb-4f2b-b0fb-b4c1afe4a95a",
   "metadata": {},
   "outputs": [
    {
     "name": "stdout",
     "output_type": "stream",
     "text": [
      "[0.         0.11111111 0.22222222 0.33333333 0.44444444 0.55555556\n",
      " 0.66666667 0.77777778 0.88888889 1.        ]\n"
     ]
    }
   ],
   "source": [
    "'''Q22. Write a Python function using NumPy to generate an array of 10 equally spaced values between 0 and 1 \n",
    "(inclusive).'''\n",
    "#22. Write a Python function using NumPy to generate an array of 10 equally spaced values between 0 and 1 (inclusive).\n",
    "\n",
    "\n",
    "def generate_equally_spaced_values():\n",
    "    return np.linspace(0, 1, 10)\n",
    "result = generate_equally_spaced_values()\n",
    "print(result)"
   ]
  },
  {
   "cell_type": "code",
   "execution_count": 43,
   "id": "aec6103c-77a7-4ccc-9b33-c6f006fdb266",
   "metadata": {},
   "outputs": [
    {
     "name": "stdout",
     "output_type": "stream",
     "text": [
      "[   1.            5.62341325   31.6227766   177.827941   1000.        ]\n"
     ]
    }
   ],
   "source": [
    "#23. Write a Python function using NumPy to create an array of 5 logarithmically spaced values between 1 and 1000 (inclusive).\n",
    "\n",
    "\n",
    "def generate_logarithmically_spaced_values():\n",
    "    return np.logspace(start=np.log10(1), stop=np.log10(1000), num=5)\n",
    "result = generate_logarithmically_spaced_values()\n",
    "print(result)\n"
   ]
  },
  {
   "cell_type": "code",
   "execution_count": 13,
   "id": "a83f27e1-5708-467d-a302-a4bd427a23e2",
   "metadata": {},
   "outputs": [
    {
     "name": "stdout",
     "output_type": "stream",
     "text": [
      "   Column1  Column2  Column3\n",
      "0       52       93       15\n",
      "1       72       61       21\n",
      "2       83       87       75\n",
      "3       75       88      100\n",
      "4       24        3       22\n"
     ]
    }
   ],
   "source": [
    "#24.Create a Pandas DataFrame using a NumPy array that contains 5 rows and 3 columns, where the values are random integers between 1 and 100 .\n",
    "\n",
    "\n",
    "# Create a NumPy array of random integers between 1 and 100\n",
    "np.random.seed(42)  # For reproducibility\n",
    "data = np.random.randint(1, 101, size=(5, 3))\n",
    "\n",
    "# Create a Pandas DataFrame using the NumPy array\n",
    "df = pd.DataFrame(data, columns=['Column1', 'Column2', 'Column3'])\n",
    "\n",
    "print(df)"
   ]
  },
  {
   "cell_type": "code",
   "execution_count": 44,
   "id": "9f94da4c-842b-4b96-9629-2d08e0124468",
   "metadata": {},
   "outputs": [
    {
     "name": "stdout",
     "output_type": "stream",
     "text": [
      "Original DataFrame:\n",
      "   A  B\n",
      "0  1  5\n",
      "1  2 -6\n",
      "2 -3  7\n",
      "3  4 -8\n",
      "4 -5  9\n",
      "\n",
      "DataFrame with negative values replaced by zeros:\n",
      "   A  B\n",
      "0  1  5\n",
      "1  2  0\n",
      "2  0  7\n",
      "3  4  0\n",
      "4  0  9\n"
     ]
    }
   ],
   "source": [
    "# 25. Write a function that takes a Pandas DataFrame and replaces all negative values in a specific column with zeros. Use NumPy operations within the Pandas DataFrame.\n",
    "\n",
    "def replace_negative_with_zeros(df, column_name):\n",
    "    df[column_name] = np.where(df[column_name] < 0, 0, df[column_name])\n",
    "    return df\n",
    "data = {'A': [1, 2, -3, 4, -5],\n",
    "        'B': [5, -6, 7, -8, 9]}\n",
    "df = pd.DataFrame(data)\n",
    "\n",
    "print(\"Original DataFrame:\")\n",
    "print(df)\n",
    "\n",
    "df = replace_negative_with_zeros(df, 'A')\n",
    "df=replace_negative_with_zeros(df,'B')\n",
    "\n",
    "print(\"\\nDataFrame with negative values replaced by zeros:\")\n",
    "print(df)"
   ]
  },
  {
   "cell_type": "code",
   "execution_count": 45,
   "id": "b4ac8bd5-b4cd-4247-9d7c-c76a4f295d5f",
   "metadata": {},
   "outputs": [
    {
     "name": "stdout",
     "output_type": "stream",
     "text": [
      "Third element: 30\n"
     ]
    }
   ],
   "source": [
    "'''26. Access the 3rd element from the given NumPy array.\n",
    "arr = np.array([10, 20, 30, 40, 50])'''\n",
    "\n",
    "arr = np.array([10, 20, 30, 40, 50])\n",
    "third_element = arr[2]\n",
    "\n",
    "print(\"Third element:\", third_element)"
   ]
  },
  {
   "cell_type": "code",
   "execution_count": 46,
   "id": "14fdffae-8f67-441d-b54a-d1840f012b1f",
   "metadata": {},
   "outputs": [
    {
     "data": {
      "text/plain": [
       "6"
      ]
     },
     "execution_count": 46,
     "metadata": {},
     "output_type": "execute_result"
    }
   ],
   "source": [
    "''''27. Retrieve the element at index (1, 2) from the 2D NumPy array.arr_2d = np.array([[1, 2, 3], [4, 5, 6],[7, 8, 9]])'''\n",
    "\n",
    "\n",
    "arr_2d = np.array([[1, 2, 3],\n",
    "                   [4, 5, 6],\n",
    "                   [7, 8, 9]])\n",
    "arr_2d[1, 2]\n"
   ]
  },
  {
   "cell_type": "code",
   "execution_count": 47,
   "id": "2de3a85b-4026-421f-898e-479115ffb5d3",
   "metadata": {},
   "outputs": [
    {
     "data": {
      "text/plain": [
       "array([ 8, 10,  7])"
      ]
     },
     "execution_count": 47,
     "metadata": {},
     "output_type": "execute_result"
    }
   ],
   "source": [
    "#28. Using boolean indexing, extract elements greater than 5 from the given NumPy array.\n",
    "arr = np.array([3, 8, 2, 10, 5, 7])\n",
    "arr[arr > 5]"
   ]
  },
  {
   "cell_type": "code",
   "execution_count": 48,
   "id": "2d2bee8a-9509-42b6-ac57-88ad4696b174",
   "metadata": {},
   "outputs": [
    {
     "data": {
      "text/plain": [
       "array([3, 4, 5, 6])"
      ]
     },
     "execution_count": 48,
     "metadata": {},
     "output_type": "execute_result"
    }
   ],
   "source": [
    "#29. Perform basic slicing to extract elements from index 2 to 5 (inclusive) from the given NumPy array.\n",
    "arr = np.array([1, 2, 3, 4, 5, 6, 7, 8, 9])\n",
    "arr[2:6]"
   ]
  },
  {
   "cell_type": "code",
   "execution_count": 107,
   "id": "99c2ec80-7be3-4fd1-bd20-5daccec6cebb",
   "metadata": {},
   "outputs": [
    {
     "data": {
      "text/plain": [
       "array([[2, 3],\n",
       "       [5, 6]])"
      ]
     },
     "execution_count": 107,
     "metadata": {},
     "output_type": "execute_result"
    }
   ],
   "source": [
    "#30. Slice the 2D NumPy array to extract the sub-array `[[2, 3], [5, 6]]` from the given array\n",
    "\n",
    "\n",
    "arr_2d = np.array([[1, 2, 3],\n",
    "                   [4, 5, 6],\n",
    "                   [7, 8, 9]])\n",
    "sub_array = arr_2d[0:2, 1:]\n",
    "sub_array\n"
   ]
  },
  {
   "cell_type": "code",
   "execution_count": 49,
   "id": "50a0de64-eef0-4de5-9735-c95692361218",
   "metadata": {},
   "outputs": [
    {
     "name": "stdout",
     "output_type": "stream",
     "text": [
      "Extracted elements based on indices: [2 5 3 6 8]\n"
     ]
    }
   ],
   "source": [
    "#31.Write a NumPy function to extract elements in specific order from a given 2D array based on indices provided in another array.\n",
    "\n",
    "def extract_elements_by_indices(arr_2D, indices):\n",
    "    return arr_2D.ravel()[indices]\n",
    "\n",
    "# Example usage:\n",
    "arr_2D = np.array([[1, 2, 3],\n",
    "                   [4, 5, 6],\n",
    "                   [7, 8, 9]])\n",
    "\n",
    "indices = np.array([1, 4, 2, 5, 7])\n",
    "\n",
    "result = extract_elements_by_indices(arr_2D, indices)\n",
    "print(\"Extracted elements based on indices:\", result)"
   ]
  },
  {
   "cell_type": "code",
   "execution_count": 50,
   "id": "a5e88414-2359-469d-a4a0-435beaabf33b",
   "metadata": {},
   "outputs": [
    {
     "name": "stdout",
     "output_type": "stream",
     "text": [
      "Filtered elements greater than 5 : [6 7 8 9]\n"
     ]
    }
   ],
   "source": [
    "#32. Create a NumPy function that filters elements greater than a threshold from a given 1D array using boolean indexing.\n",
    "import numpy as np\n",
    "\n",
    "def filter_elements_greater_than_threshold(arr, threshold):\n",
    "    return arr[arr > threshold]\n",
    "\n",
    "arr = np.array([1, 2, 3, 4, 5, 6, 7, 8, 9])\n",
    "threshold = 5\n",
    "\n",
    "result = filter_elements_greater_than_threshold(arr, threshold)\n",
    "print(\"Filtered elements greater than\", threshold, \":\", result)"
   ]
  },
  {
   "cell_type": "code",
   "execution_count": 51,
   "id": "9a2cc619-364f-4b65-a2ca-1969c0110a17",
   "metadata": {},
   "outputs": [
    {
     "data": {
      "text/plain": [
       "array([ 2, 12])"
      ]
     },
     "execution_count": 51,
     "metadata": {},
     "output_type": "execute_result"
    }
   ],
   "source": [
    "'''Q 33 Develop a NumPy function that extracts specific elements from a 3D array using indices provided in three \n",
    "separate arrays for each dimension.'''\n",
    "\n",
    "def extract_elements_3d(array, indices_dim1, indices_dim2, indices_dim3):\n",
    "   indices = (indices_dim1, indices_dim2, indices_dim3)\n",
    "   extracted_elements = array[indices]\n",
    "   return extracted_elements\n",
    "arr_3d = np.array([[[1, 2, 3], [4, 5, 6]], [[7, 8, 9], [10, 11, 12]]])\n",
    "indices_dim1 = np.array([0, 1])\n",
    "indices_dim2 = np.array([0, 1])\n",
    "indices_dim3 = np.array([1, 2])\n",
    "extract_elements_3d(arr_3d, indices_dim1, indices_dim2, indices_dim3)"
   ]
  },
  {
   "cell_type": "code",
   "execution_count": 52,
   "id": "a2124002-566a-4733-9f58-d8af8cc6abce",
   "metadata": {},
   "outputs": [
    {
     "name": "stdout",
     "output_type": "stream",
     "text": [
      "Elements satisfying both conditions:\n",
      "[ 4  6  8 12 32 64]\n"
     ]
    }
   ],
   "source": [
    "#34. Write a NumPy function that returns elements from an array where both two conditions are satisfied using boolean indexing.\n",
    "import numpy as np\n",
    "\n",
    "def elements_satisfying_conditions(arr, condition1, condition2):\n",
    "    return arr[np.logical_and(condition1, condition2)]\n",
    "arr = np.array([1, 2, 3, 4, 5, 6, 7, 8, 9,12,32,64])\n",
    "condition1 = arr > 3\n",
    "condition2 = arr % 2 == 0\n",
    "\n",
    "result = elements_satisfying_conditions(arr, condition1, condition2)\n",
    "print(\"Elements satisfying both conditions:\")\n",
    "print(result)\n"
   ]
  },
  {
   "cell_type": "code",
   "execution_count": 53,
   "id": "93886844-d96f-44c6-8c00-5da4725625d1",
   "metadata": {},
   "outputs": [
    {
     "name": "stdout",
     "output_type": "stream",
     "text": [
      "Extracted elements:\n",
      "[2 4 9]\n"
     ]
    }
   ],
   "source": [
    "'''35. Create a NumPy function that extracts elements from a 2D array using row and column indices provided in separate arrays.\n",
    "import numpy as np'''\n",
    "\n",
    "def extract_elements_from_2d_array(arr_2d, row_indices, col_indices):\n",
    "    return arr_2d[row_indices, col_indices]\n",
    "\n",
    "arr_2d = np.array([[1, 2, 3],\n",
    "                   [4, 5, 6],\n",
    "                   [7, 8, 9]])\n",
    "\n",
    "row_indices = np.array([0, 1, 2])\n",
    "col_indices = np.array([1, 0, 2])\n",
    "\n",
    "result = extract_elements_from_2d_array(arr_2d, row_indices, col_indices)\n",
    "print(\"Extracted elements:\")\n",
    "print(result)"
   ]
  },
  {
   "cell_type": "code",
   "execution_count": 54,
   "id": "885a94db-e482-47d9-8854-61cd5f3d6f66",
   "metadata": {},
   "outputs": [
    {
     "data": {
      "text/plain": [
       "array([[ 6,  7,  8],\n",
       "       [ 9, 10, 11],\n",
       "       [12, 13, 14]])"
      ]
     },
     "execution_count": 54,
     "metadata": {},
     "output_type": "execute_result"
    }
   ],
   "source": [
    "''' 36. Given an array arr of shape (3, 3), add a scalar value of 5 to each element using NumPy broadcasting '''\n",
    "\n",
    "arr = np.array([[1, 2, 3],\n",
    "                [4, 5, 6],\n",
    "                [7, 8, 9]])\n",
    "arr1=arr+5\n",
    "arr1"
   ]
  },
  {
   "cell_type": "code",
   "execution_count": 55,
   "id": "9b6f4b06-b878-43fb-ab74-ccc375f99bbf",
   "metadata": {},
   "outputs": [
    {
     "name": "stdout",
     "output_type": "stream",
     "text": [
      "[[ 4  5  6  7]\n",
      " [16 18 20 22]\n",
      " [36 39 42 45]]\n"
     ]
    }
   ],
   "source": [
    "'''37. Consider two arrays arr1 of shape (1, 3) and arr2 of shape (3, 4). Multiply each row of arr2 by the \n",
    "corresponding element in arr1 using NumPy broadcasting'''\n",
    "\n",
    "arr1 = np.array([[1, 2, 3]])\n",
    "\n",
    "arr2 = np.array([\n",
    "    [4, 5, 6, 7],\n",
    "    [8, 9, 10, 11],\n",
    "    [12, 13, 14, 15]\n",
    "])\n",
    "\n",
    "# Multiply each row of arr2 by the corresponding element in arr1 using broadcasting\n",
    "result = arr2 * arr1.T\n",
    "\n",
    "print(result)\n"
   ]
  },
  {
   "cell_type": "code",
   "execution_count": 56,
   "id": "418e73c9-cc71-484b-8f3b-9a9155c412a2",
   "metadata": {},
   "outputs": [
    {
     "data": {
      "text/plain": [
       "array([[ 4, 10, 18],\n",
       "       [ 7, 16, 27],\n",
       "       [10, 22, 36],\n",
       "       [13, 28, 45]])"
      ]
     },
     "execution_count": 56,
     "metadata": {},
     "output_type": "execute_result"
    }
   ],
   "source": [
    "arr3=arr2.reshape(4,3)\n",
    "arr4=arr1*arr3\n",
    "arr4"
   ]
  },
  {
   "cell_type": "code",
   "execution_count": 108,
   "id": "bb05c729-eb24-45cc-844b-c7035d4c9719",
   "metadata": {},
   "outputs": [
    {
     "data": {
      "text/plain": [
       "array([[ 2,  3,  4],\n",
       "       [ 6,  7,  8],\n",
       "       [10, 11, 12],\n",
       "       [14, 15, 16]])"
      ]
     },
     "execution_count": 108,
     "metadata": {},
     "output_type": "execute_result"
    }
   ],
   "source": [
    "'''Q.38. Given a 1D array arr1 of shape (1, 4) and a 2D array arr2 of shape (4, 3), add arr1 to each row of arr2 using \n",
    "NumPy broadcasting'''\n",
    "\n",
    "\n",
    "arr1 = np.array([[1, 2, 3, 4]])\n",
    "arr2 = np.array([[1, 2, 3],\n",
    "                 [4, 5, 6],\n",
    "                 [7, 8, 9],\n",
    "                 [10, 11, 12]])\n",
    "arr_add=arr1.T+arr2\n",
    "arr_add\n",
    "\n",
    "\n"
   ]
  },
  {
   "cell_type": "code",
   "execution_count": 57,
   "id": "dce7c95e-b1f4-453e-a445-5b089dbf0f07",
   "metadata": {},
   "outputs": [
    {
     "data": {
      "text/plain": [
       "array([[ 2,  3,  4],\n",
       "       [ 5,  6,  7],\n",
       "       [ 8,  9, 10]])"
      ]
     },
     "execution_count": 57,
     "metadata": {},
     "output_type": "execute_result"
    }
   ],
   "source": [
    "'''39. Consider two arrays arr1 of shape (3, 1) and arr2 of shape (1, 3). Add these arrays using NumPy \n",
    "broadcasting.'''\n",
    "\n",
    "arr2 = np.array([[1, 2, 3]])\n",
    "arr1 = np.array([[1],\n",
    "                 [4],\n",
    "                 [7]])\n",
    "arr_add=arr1+arr2\n",
    "arr_add"
   ]
  },
  {
   "cell_type": "code",
   "execution_count": 109,
   "id": "fdbac2d8-88a0-4ed6-8ff2-d5d83f5c2112",
   "metadata": {},
   "outputs": [
    {
     "name": "stdout",
     "output_type": "stream",
     "text": [
      "[[[ 7 14 21]\n",
      "  [32 40 48]]\n",
      "\n",
      " [[ 9 18 27]\n",
      "  [40 50 60]]]\n"
     ]
    }
   ],
   "source": [
    "'''40. Given arrays arr1 of shape (2, 3) and arr2 of shape (2, 2), perform multiplication using NumPy \n",
    "broadcasting. Handle the shape incompatibility'''\n",
    "\n",
    "\n",
    "arr1 = np.array([\n",
    "    [1, 2, 3],\n",
    "    [4, 5, 6]\n",
    "])\n",
    "\n",
    "arr2 = np.array([\n",
    "    [7, 8],\n",
    "    [9, 10]\n",
    "])\n",
    "\n",
    "# Reshape arr2 to (2, 2, 1)\n",
    "arr2_reshaped = arr2[:, :, np.newaxis]\n",
    "\n",
    "# Use broadcasting\n",
    "result = arr1 * arr2_reshaped\n",
    "\n",
    "print(result)\n",
    "\n"
   ]
  },
  {
   "cell_type": "code",
   "execution_count": 58,
   "id": "5a336b5c-79ce-42ec-8143-6415ee17f62b",
   "metadata": {},
   "outputs": [
    {
     "name": "stdout",
     "output_type": "stream",
     "text": [
      "[2.5 3.5 4.5]\n"
     ]
    }
   ],
   "source": [
    "'''41. Calculate column wise mean for the given array:\n",
    "arr = np.array([[1, 2, 3], [4, 5, 6]])'''\n",
    "\n",
    "arr = np.array([[1, 2, 3], [4, 5, 6]])\n",
    "column_mean = np.mean(arr, axis=0)\n",
    "print(column_mean)\n"
   ]
  },
  {
   "cell_type": "code",
   "execution_count": 59,
   "id": "09c82404-b4d1-43b8-bb1f-b3ff0495c280",
   "metadata": {},
   "outputs": [
    {
     "data": {
      "text/plain": [
       "array([3, 6])"
      ]
     },
     "execution_count": 59,
     "metadata": {},
     "output_type": "execute_result"
    }
   ],
   "source": [
    "'''Q 42 Find maximum value in each row of the given array:\n",
    "arr = np.array([[1, 2, 3], [4, 5, 6]])'''\n",
    "\n",
    "arr = np.array([[1, 2, 3], [4, 5, 6]])\n",
    "arr1=np.max(arr,axis=1)\n",
    "arr1"
   ]
  },
  {
   "cell_type": "code",
   "execution_count": 60,
   "id": "3d2a6d9b-7696-4b68-92bc-8174c78a159d",
   "metadata": {},
   "outputs": [
    {
     "data": {
      "text/plain": [
       "array([1, 1, 1], dtype=int64)"
      ]
     },
     "execution_count": 60,
     "metadata": {},
     "output_type": "execute_result"
    }
   ],
   "source": [
    "'''43. For the given array, find indices of maximum value in each column.\n",
    "arr = np.array([[1, 2, 3], [4, 5, 6]])'''\n",
    "\n",
    "arr = np.array([[1, 2, 3], [4, 5, 6]])\n",
    "arr=np.argmax(arr,axis=0)\n",
    "arr"
   ]
  },
  {
   "cell_type": "code",
   "execution_count": 61,
   "id": "7d676433-748e-4433-a39f-b32da9f71707",
   "metadata": {},
   "outputs": [
    {
     "data": {
      "text/plain": [
       "array([[1, 2, 3],\n",
       "       [5, 7, 9]])"
      ]
     },
     "execution_count": 61,
     "metadata": {},
     "output_type": "execute_result"
    }
   ],
   "source": [
    "#44. For the given array, apply custom function to calculate moving sum along rows.\n",
    "arr = np.array([[1, 2, 3], [4, 5, 6]])\n",
    "\n",
    "arr = np.array([[1, 2, 3], [4, 5, 6]])\n",
    "arr_max1=np.cumsum(arr,axis=0)\n",
    "arr_max1  \n",
    "\n"
   ]
  },
  {
   "cell_type": "code",
   "execution_count": 62,
   "id": "e7444012-e44d-45df-8d39-073796d61296",
   "metadata": {},
   "outputs": [
    {
     "data": {
      "text/plain": [
       "array([[False,  True, False],\n",
       "       [ True, False,  True]])"
      ]
     },
     "execution_count": 62,
     "metadata": {},
     "output_type": "execute_result"
    }
   ],
   "source": [
    "'''45. In the given array, check if all elements in each column are even.\n",
    "arr = np.array([[2, 4, 6], [3, 5, 7]])'''\n",
    "\n",
    "arr = np.array([[1, 2, 3], [4, 5, 6]])\n",
    "arr%2==0\n",
    "\n",
    "\n"
   ]
  },
  {
   "cell_type": "code",
   "execution_count": 63,
   "id": "6f5f155b-140a-4d34-8893-92d2d558e13c",
   "metadata": {},
   "outputs": [
    {
     "data": {
      "text/plain": [
       "matrix([[1, 2],\n",
       "        [3, 4],\n",
       "        [5, 6]])"
      ]
     },
     "execution_count": 63,
     "metadata": {},
     "output_type": "execute_result"
    }
   ],
   "source": [
    "'''46. Given a NumPy array arr, reshape it into a matrix of dimensions `m` rows and `n` columns. Return the \n",
    "reshaped matrix. original_array = np.array([1, 2, 3, 4, 5, 6])'''\n",
    "\n",
    "original_array = np.array([1, 2, 3, 4, 5, 6])\n",
    "reshaped_matrix = np.matrix(original_array.reshape(3,2))\n",
    "reshaped_matrix\n",
    "\n"
   ]
  },
  {
   "cell_type": "code",
   "execution_count": 65,
   "id": "8d528fd1-02ca-499f-adf5-14f61cea0778",
   "metadata": {},
   "outputs": [
    {
     "data": {
      "text/plain": [
       "array([1, 2, 3, 4, 5, 6])"
      ]
     },
     "execution_count": 65,
     "metadata": {},
     "output_type": "execute_result"
    }
   ],
   "source": [
    "'''47. Create a function that takes a matrix as input and returns the flattened array.'''\n",
    "\n",
    "def flatten_matrix(input_matrix):\n",
    "    arr=input_matrix.flatten()\n",
    "    return arr\n",
    "input_matrix = np.array([[1, 2, 3], [4, 5, 6]])\n",
    "flattern_M=input_matrix.flatten()\n",
    "flattern_M\n",
    "    \n"
   ]
  },
  {
   "cell_type": "code",
   "execution_count": 66,
   "id": "e2701354-f568-4814-a05c-360151094fe8",
   "metadata": {},
   "outputs": [
    {
     "data": {
      "text/plain": [
       "array([[1, 2, 5, 6],\n",
       "       [3, 4, 7, 8]])"
      ]
     },
     "execution_count": 66,
     "metadata": {},
     "output_type": "execute_result"
    }
   ],
   "source": [
    "# 48 Write a function that concatenates two given arrays along a specified axis.\n",
    "\n",
    "def concatenate(array1, array2, axis):\n",
    "  arr=np.concatenate((array1, array2), axis=axis)\n",
    "  return arr\n",
    "array1 = np.array([[1, 2], [3, 4]])\n",
    "array2 = np.array([[5, 6], [7, 8]])\n",
    "concatenate(array1, array2, axis=1)\n",
    "\n"
   ]
  },
  {
   "cell_type": "code",
   "execution_count": 67,
   "id": "241ca2f3-12a9-427f-ad15-2edee1a1b622",
   "metadata": {},
   "outputs": [
    {
     "data": {
      "text/plain": [
       "[array([[1],\n",
       "        [4],\n",
       "        [7]]),\n",
       " array([[2],\n",
       "        [5],\n",
       "        [8]]),\n",
       " array([[3],\n",
       "        [6],\n",
       "        [9]])]"
      ]
     },
     "execution_count": 67,
     "metadata": {},
     "output_type": "execute_result"
    }
   ],
   "source": [
    "'''49. Create a function that splits an array into multiple sub-arrays along a specified axis'''\n",
    "def split_array(original_array, num, axis):\n",
    "  arr=np.split(original_array, num, axis=axis)\n",
    "  return arr\n",
    "original_array = np.array([[1, 2, 3], [4, 5, 6], [7, 8, 9]])\n",
    "split_q=np.split(original_array,3,axis=1)\n",
    "split_q\n"
   ]
  },
  {
   "cell_type": "code",
   "execution_count": 69,
   "id": "2fd0a813-0dde-4d5b-ad44-e940324a1527",
   "metadata": {},
   "outputs": [
    {
     "name": "stdout",
     "output_type": "stream",
     "text": [
      "[ 1 10  4 11  5]\n"
     ]
    }
   ],
   "source": [
    "'''Q50-Write a function that inserts and then deletes elements from a given array at specified indices.\n",
    "original_array = np.array([1, 2, 3, 4, 5])\n",
    "indices_to_insert = [2, 4]\n",
    "values_to_insert = [10, 11]\n",
    "indices_to_delete = [1, 3]\n",
    "'''\n",
    "def insert_and_delete(original_array, indices_to_insert, values_to_insert, indices_to_delete):\n",
    "    array_list = original_array.tolist()\n",
    "    sorted_inserts = sorted(zip(indices_to_insert, values_to_insert))\n",
    "    offset = 0\n",
    "    for index, value in sorted_inserts:\n",
    "        array_list.insert(index + offset, value)\n",
    "        offset += 1\n",
    "\n",
    "    modified_array = np.array(array_list)\n",
    "\n",
    "    sorted_deletes = sorted(indices_to_delete, reverse=True)\n",
    "\n",
    "\n",
    "    for index in sorted_deletes:\n",
    "        modified_array = np.delete(modified_array, index)\n",
    "\n",
    "    return modified_array\n",
    "\n",
    "original_array = np.array([1, 2, 3, 4, 5])\n",
    "indices_to_insert = [2, 4]\n",
    "values_to_insert = [10, 11]\n",
    "indices_to_delete = [1, 3]\n",
    "\n",
    "result_array = insert_and_delete(original_array, indices_to_insert, values_to_insert, indices_to_delete)\n",
    "print(result_array)\n"
   ]
  },
  {
   "cell_type": "code",
   "execution_count": 68,
   "id": "825e152a-8de9-4dfd-925f-5ad915bd261f",
   "metadata": {},
   "outputs": [
    {
     "data": {
      "text/plain": [
       "array([ 5,  3, 10,  9,  6, 10,  7, 17, 14, 18])"
      ]
     },
     "execution_count": 68,
     "metadata": {},
     "output_type": "execute_result"
    }
   ],
   "source": [
    "'''51. Create a NumPy array `arr1` with random integers and another array `arr2` with integers from 1 to 10. \n",
    "Perform element-wise addition between `arr1` and `arr2`.'''\n",
    "arr1=np.random.randint(0,11,10)\n",
    "arr2=np.arange(1,11,1)\n",
    "arr_add=arr1+arr2\n",
    "arr_add"
   ]
  },
  {
   "cell_type": "code",
   "execution_count": 70,
   "id": "636ead46-7f9b-436c-b14a-49106fc6cd62",
   "metadata": {},
   "outputs": [
    {
     "data": {
      "text/plain": [
       "array([ 9,  7,  5,  3,  1, -1, -3, -5, -7, -9])"
      ]
     },
     "execution_count": 70,
     "metadata": {},
     "output_type": "execute_result"
    }
   ],
   "source": [
    "'''52 Create a NumPy array `arr1` with random integers and another array `arr2` with integers from 1 to 10. \n",
    "Perform element-wise addition between `arr1` and `arr2`.'''\n",
    "arr1=np.arange(10,0,-1)\n",
    "arr2=np.arange(1,11,1)\n",
    "arr_sub=arr1-arr2\n",
    "arr_sub"
   ]
  },
  {
   "cell_type": "code",
   "execution_count": 71,
   "id": "3a8eef48-a2ad-4a5f-b0f6-d5438051c934",
   "metadata": {},
   "outputs": [
    {
     "name": "stdout",
     "output_type": "stream",
     "text": [
      "[0 2 2 1 3]\n",
      "[1 2 3 4 5]\n"
     ]
    },
    {
     "data": {
      "text/plain": [
       "array([ 0,  4,  6,  4, 15])"
      ]
     },
     "execution_count": 71,
     "metadata": {},
     "output_type": "execute_result"
    }
   ],
   "source": [
    "''' 53 Create a NumPy array `arr1` with random integers and another array `arr2` with integers from 1 to 5. \n",
    "Perform element-wise multiplication between `arr1` and `arr2'\n",
    "  '''\n",
    "arr1=np.random.randint(0,6,5)\n",
    "print(arr1)\n",
    "arr2=np.arange(1,6,1)\n",
    "print(arr2)\n",
    "arr_mul=arr1*arr2\n",
    "arr_mul\n"
   ]
  },
  {
   "cell_type": "code",
   "execution_count": 72,
   "id": "66ada49d-5ca7-42fd-b991-e96cce933483",
   "metadata": {},
   "outputs": [
    {
     "data": {
      "text/plain": [
       "array([2., 2., 2., 2., 2.])"
      ]
     },
     "execution_count": 72,
     "metadata": {},
     "output_type": "execute_result"
    }
   ],
   "source": [
    "'''54. Generate a NumPy array `arr1` with even integers from 2 to 10 and another array `arr2` with integers from 1 \n",
    "to 5. Perform element-wise division of `arr1` by `arr2`.'''\n",
    "\n",
    "arr1=np.arange(2,11,2)\n",
    "arr2=np.arange(1,6,1)\n",
    "arr_div=arr1/arr2\n",
    "arr_div\n"
   ]
  },
  {
   "cell_type": "code",
   "execution_count": 73,
   "id": "0750423f-a26d-439b-a0c3-7a2e4ffa02cd",
   "metadata": {},
   "outputs": [
    {
     "name": "stdout",
     "output_type": "stream",
     "text": [
      "[5 4 3 2 1]\n"
     ]
    },
    {
     "data": {
      "text/plain": [
       "array([ 1, 16, 27, 16,  5])"
      ]
     },
     "execution_count": 73,
     "metadata": {},
     "output_type": "execute_result"
    }
   ],
   "source": [
    "'''55. Create a NumPy array `arr1` with integers from 1 to 5 and another array `arr2` with the same numbers \n",
    "reversed. Calculate the exponentiation of `arr1` raised to the power of `arr2` element-wis'''\n",
    "\n",
    "arr1=np.arange(1,6,1)\n",
    "arr2=arr1[::-1]\n",
    "print(arr2)\n",
    "arr_power=np.power(arr1,arr2)\n",
    "arr_power\n"
   ]
  },
  {
   "cell_type": "code",
   "execution_count": 74,
   "id": "20beccff-61fd-44e8-b1af-8ee1e7d31628",
   "metadata": {},
   "outputs": [
    {
     "name": "stdout",
     "output_type": "stream",
     "text": [
      "3\n"
     ]
    }
   ],
   "source": [
    "'''56. Write a function that counts the occurrences of a specific substring within a NumPy array of strings.\n",
    "arr = np.array(['hello', 'world', 'hello', 'numpy', 'hello'])'''\n",
    "\n",
    "def count_substring_occurrences(arr, substring):\n",
    "    count = np.char.count(arr, substring)\n",
    "    total_count = np.sum(count)\n",
    "    return total_count\n",
    "arr = np.array(['hello', 'world', 'hello', 'numpy', 'hello'])\n",
    "substring = 'hello'\n",
    "print(count_substring_occurrences(arr, substring))\n",
    "\n",
    "\n"
   ]
  },
  {
   "cell_type": "code",
   "execution_count": 75,
   "id": "e858e9d8-b800-4f56-81d4-3df369d17469",
   "metadata": {},
   "outputs": [
    {
     "name": "stdout",
     "output_type": "stream",
     "text": [
      "['H', 'W', 'O', 'A', 'I', 'G', 'P', 'T']\n"
     ]
    }
   ],
   "source": [
    "'''57. Write a function that extracts uppercase characters from a NumPy array of strings.\n",
    "arr = np.array(['Hello', 'World', 'OpenAI', 'GPT']))'''\n",
    "\n",
    "\n",
    "def extract_uppercase_characters(arr):\n",
    "    return [char for string in arr for char in string if char.isupper()]\n",
    "arr = np.array(['Hello', 'World', 'OpenAI', 'GPT'])\n",
    "uppercase_characters = extract_uppercase_characters(arr)\n",
    "print(uppercase_characters)\n",
    "\n",
    "    "
   ]
  },
  {
   "cell_type": "code",
   "execution_count": 76,
   "id": "d6e7f476-1fd4-45b6-9e9d-365a1154e485",
   "metadata": {},
   "outputs": [
    {
     "name": "stdout",
     "output_type": "stream",
     "text": [
      "['orange' 'banana' 'grape' 'pineorange']\n"
     ]
    }
   ],
   "source": [
    "''''58. Write a function that replaces occurrences of a substring in a NumPy array of strings with a new string.\n",
    "arr = np.array(['apple', 'banana', 'grape', 'pineapple'])'''\n",
    "\n",
    "\n",
    "def replace_substring(arr, old_substring, new_substring):\n",
    "  arr=np.char.replace(arr, old_substring, new_substring)\n",
    "  return arr\n",
    "arr = np.array(['apple', 'banana', 'grape', 'pineapple'])\n",
    "old_substring = 'apple'\n",
    "new_substring = 'orange'\n",
    "print(replace_substring(arr, old_substring, new_substring))\n"
   ]
  },
  {
   "cell_type": "code",
   "execution_count": 77,
   "id": "3b993ccd-ce81-40e7-98d2-16be2f13c19a",
   "metadata": {},
   "outputs": [
    {
     "name": "stdout",
     "output_type": "stream",
     "text": [
      "['Hello' 'World' 'Open' 'AI']\n"
     ]
    }
   ],
   "source": [
    "'''59. Write a function that concatenates strings in a NumPy array element-wise.\n",
    "arr1 = np.array(['Hello', 'World']) ",
    "\n",
    "arr2 = np.array(['Open', 'AI'])'''\n",
    "\n",
    "def concatenate_arrays(arr1, arr2, axis):\n",
    "  arr=np.concatenate((arr1, arr2), axis=axis)\n",
    "  return arr\n",
    "arr1 = np.array(['Hello', 'World'])\n",
    "arr2 = np.array(['Open', 'AI'])\n",
    "print(concatenate_arrays(arr1, arr2, axis=0))"
   ]
  },
  {
   "cell_type": "code",
   "execution_count": 78,
   "id": "45f9dcc7-6d5f-4a5a-b894-aaf7394c0246",
   "metadata": {},
   "outputs": [
    {
     "data": {
      "text/plain": [
       "9"
      ]
     },
     "execution_count": 78,
     "metadata": {},
     "output_type": "execute_result"
    }
   ],
   "source": [
    "''' q 60 Write a function that finds the length of the longest string in a NumPy array.\n",
    "\n",
    "arr = np.array(['apple', 'banana', 'grape', 'pineapple'])'''\n",
    "\n",
    "def longest_string_length(arr):\n",
    "  arr=max(len(s) for s in arr)\n",
    "  return arr\n",
    "arr1 = np.array(['apple', 'banana', 'grape', 'pineapple'])\n",
    "longest_string_length(arr1)\n",
    "\n",
    "\n"
   ]
  },
  {
   "cell_type": "code",
   "execution_count": 79,
   "id": "b9903f46-6552-4283-8442-3e0b05ede044",
   "metadata": {},
   "outputs": [
    {
     "name": "stdout",
     "output_type": "stream",
     "text": [
      "506.87\n",
      "502.0\n",
      "86882.41309999999\n",
      "294.7582282142434\n"
     ]
    }
   ],
   "source": [
    "'''Q61 Create a dataset of 100 random integers between 1 and 1000. Compute the mean, median, variance, and \n",
    "standard deviation of the dataset using NumPy's functions.'''\n",
    "\n",
    "arr1= np.random.randint(1,1001,100)\n",
    "arr1\n",
    "arr2=np.mean(arr1)\n",
    "print(arr2)\n",
    "arr3=np.median(arr1)\n",
    "print(arr3)\n",
    "arr4=np.var(arr1)\n",
    "print(arr4)\n",
    "arr5=np.std(arr1)\n",
    "print(arr5)"
   ]
  },
  {
   "cell_type": "code",
   "execution_count": 80,
   "id": "6a1b4000-dcba-45b7-a67a-a69aca3b7c31",
   "metadata": {},
   "outputs": [
    {
     "data": {
      "text/plain": [
       "array([23., 76.])"
      ]
     },
     "execution_count": 80,
     "metadata": {},
     "output_type": "execute_result"
    }
   ],
   "source": [
    "'''62. Generate an array of 50 random numbers between 1 and 100. Find the 25th and 75th percentiles of the \n",
    "dataset.'''\n",
    "arr1= np.random.randint(1,101,50)\n",
    "arr1\n",
    "arr2= np.percentile(arr1, [25,75])\n",
    "arr2"
   ]
  },
  {
   "cell_type": "code",
   "execution_count": 81,
   "id": "004eba7e-2005-44b7-ba8a-622b7547ff8b",
   "metadata": {},
   "outputs": [
    {
     "data": {
      "text/plain": [
       "array([[1.       , 0.2450498],\n",
       "       [0.2450498, 1.       ]])"
      ]
     },
     "execution_count": 81,
     "metadata": {},
     "output_type": "execute_result"
    }
   ],
   "source": [
    "'''63. Create two arrays representing two sets of variables. Compute the correlation coefficient between these \n",
    "arrays using NumPy's `corrcoef` function.'''\n",
    "\n",
    "\n",
    "arr1=np.random.randint(1,101,50)\n",
    "arr2=np.random.randint(1,101,50)\n",
    "arr3=np.corrcoef(arr1, arr2)\n",
    "arr3"
   ]
  },
  {
   "cell_type": "code",
   "execution_count": 82,
   "id": "b596062a-2b05-457d-b406-3cbe65c3d263",
   "metadata": {},
   "outputs": [
    {
     "data": {
      "text/plain": [
       "array([[55, 70],\n",
       "       [67, 88]])"
      ]
     },
     "execution_count": 82,
     "metadata": {},
     "output_type": "execute_result"
    }
   ],
   "source": [
    "'''64. Create two matrices and perform matrix multiplication using NumPy's `dot` function'''\n",
    "\n",
    "mat1=np.array([[2,6,7],[6,7,8]] )\n",
    "mat2=np.array([[1,2],[3,4],[5,6]])\n",
    "mat3=np.dot(mat1,mat2)\n",
    "mat3"
   ]
  },
  {
   "cell_type": "code",
   "execution_count": 83,
   "id": "17f6e85b-6f32-4180-bdfc-8fda54858f13",
   "metadata": {},
   "outputs": [
    {
     "data": {
      "text/plain": [
       "array([ 8.8 , 23.25, 41.  , 78.75, 93.1 ])"
      ]
     },
     "execution_count": 83,
     "metadata": {},
     "output_type": "execute_result"
    }
   ],
   "source": [
    "'''  65. Create an array of 50 integers between 10 and 1000. Calculate the 10th, 50th (median), and 90th \n",
    "percentiles along with the first and third quartiles.'''\n",
    "\n",
    "arr1= np.random.randint(1,101,50)\n",
    "arr1\n",
    "arr2= np.percentile(arr1, [10,25,50,75,90])\n",
    "arr2\n",
    "\n",
    "\n"
   ]
  },
  {
   "cell_type": "code",
   "execution_count": 84,
   "id": "9a90a125-3b02-47c3-8694-fc539bbdc7fd",
   "metadata": {},
   "outputs": [
    {
     "name": "stdout",
     "output_type": "stream",
     "text": [
      "Index of 5 : [4]\n"
     ]
    }
   ],
   "source": [
    "'''  66. Create a NumPy array of integers and find the index of a specific element.'''\n",
    "\n",
    "arr=np.array([1,2,3,4,5])\n",
    "element_to_find = 5\n",
    "index = np.where(arr == element_to_find)[0]\n",
    "print(\"Index of\", element_to_find, \":\", index)\n"
   ]
  },
  {
   "cell_type": "code",
   "execution_count": 85,
   "id": "c6278c61-e7c3-4a0b-ac58-ede818042197",
   "metadata": {
    "scrolled": true
   },
   "outputs": [
    {
     "name": "stdout",
     "output_type": "stream",
     "text": [
      "[1 4 9 8 5]\n",
      "\n",
      " ****************** \n",
      "[1 4 5 8 9]\n"
     ]
    }
   ],
   "source": [
    "'''67. Generate a random NumPy array and sort it in ascending order.'''\n",
    "arr1=np.array([1,4,9,8,5])\n",
    "print(arr1)\n",
    "print(\"\\n ****************** \")\n",
    "arr2=np.sort(arr1)\n",
    "print(arr2)"
   ]
  },
  {
   "cell_type": "code",
   "execution_count": 86,
   "id": "d4164fb6-8de5-4e4e-91e4-f1e8bbbc4238",
   "metadata": {},
   "outputs": [
    {
     "data": {
      "text/plain": [
       "array([25, 42, 30])"
      ]
     },
     "execution_count": 86,
     "metadata": {},
     "output_type": "execute_result"
    }
   ],
   "source": [
    "'''.q.68 'Filter elements >20  in the given NumPy array \n",
    "arr = np.array([12, 25, 6, 42, 8, 30])'''\n",
    "\n",
    "arr = np.array([12, 25, 6, 42, 8, 30])\n",
    "arr1=arr[arr>20]\n",
    "arr1\n"
   ]
  },
  {
   "cell_type": "code",
   "execution_count": 87,
   "id": "9715b72c-6b70-4740-9a41-a6117dfd184b",
   "metadata": {},
   "outputs": [
    {
     "data": {
      "text/plain": [
       "array([12, 15])"
      ]
     },
     "execution_count": 87,
     "metadata": {},
     "output_type": "execute_result"
    }
   ],
   "source": [
    "'''69. Filter elements which are divisible by 3 from a given NumPy array\n",
    "arr = np.array([1, 5, 8, 12, 15]) '''\n",
    "\n",
    "arr = np.array([1, 5, 8, 12, 15])\n",
    "arr1=arr[arr%3==0]\n",
    "arr1\n"
   ]
  },
  {
   "cell_type": "code",
   "execution_count": 110,
   "id": "75958b64-a93e-417c-b7a2-4701567b4f13",
   "metadata": {},
   "outputs": [
    {
     "data": {
      "text/plain": [
       "array([40, 35, 25, 20])"
      ]
     },
     "execution_count": 110,
     "metadata": {},
     "output_type": "execute_result"
    }
   ],
   "source": [
    "'''70. Filter elements which are ≥ 20 and ≤ 40 from a given NumPy array.\n",
    "arr = np.array([10, 20, 30, 40, 50])'''\n",
    "\n",
    "arr = np.array([1, 5, 18, 12, 15,40,35,25,20,15])\n",
    "arr1=arr[(arr>=20)&(arr<=40)]\n",
    "arr1\n",
    "\n"
   ]
  },
  {
   "cell_type": "code",
   "execution_count": 88,
   "id": "da432e59-5113-44e5-af1e-1b955a640e9a",
   "metadata": {},
   "outputs": [
    {
     "name": "stdout",
     "output_type": "stream",
     "text": [
      "Byte order: =\n"
     ]
    }
   ],
   "source": [
    "'''71. For the given NumPy array, check its byte order using the `dtype` attribute byteorder.\n",
    "arr = np.array([1, 2, 3])'''\n",
    "\n",
    "arr = np.array([1, 2, 3])\n",
    "arr_4=np.byte(arr)\n",
    "byte_order = arr.dtype.byteorder\n",
    "print(\"Byte order:\", byte_order)"
   ]
  },
  {
   "cell_type": "code",
   "execution_count": 89,
   "id": "5ec1890d-02ce-47e9-b016-ca9a123b3bc6",
   "metadata": {},
   "outputs": [
    {
     "data": {
      "text/plain": [
       "array([16777216, 33554432, 50331648])"
      ]
     },
     "execution_count": 89,
     "metadata": {},
     "output_type": "execute_result"
    }
   ],
   "source": [
    "# 72. # For the given NumPy array, perform byte swapping in place using `byteswap()`\n",
    "\n",
    "\n",
    "arr = np.array([1, 2, 3], dtype=np.int32)\n",
    "arr1=arr.byteswap(True)\n",
    "arr1\n"
   ]
  },
  {
   "cell_type": "code",
   "execution_count": 92,
   "id": "7f4696f7-e8c4-4209-ab86-6b392f85997a",
   "metadata": {},
   "outputs": [
    {
     "data": {
      "text/plain": [
       "array([16777216, 33554432, 50331648], dtype='>i4')"
      ]
     },
     "execution_count": 92,
     "metadata": {},
     "output_type": "execute_result"
    }
   ],
   "source": [
    "'''73. For the given NumPy array, swap its byte order without modifying the original array using \n",
    "`newbyteorder()`.'''\n",
    "\n",
    "arr = np.array([1, 2, 3], dtype=np.int32)\n",
    "arr1=arr.newbyteorder()\n",
    "arr1\n"
   ]
  },
  {
   "cell_type": "code",
   "execution_count": 95,
   "id": "88da5e66-d1bd-4480-8a13-fcf5832570b7",
   "metadata": {},
   "outputs": [
    {
     "data": {
      "text/plain": [
       "array([1, 2, 3], dtype='>i4')"
      ]
     },
     "execution_count": 95,
     "metadata": {},
     "output_type": "execute_result"
    }
   ],
   "source": [
    "'''74. For the given NumPy array and swap its byte order conditionally based on system endianness using \n",
    "newbyteorder()'''\n",
    "arr = np.array([1, 2, 3], dtype=np.int32)\n",
    "arr1=arr.byteswap(True)\n",
    "arr2=arr.newbyteorder()\n",
    "arr2"
   ]
  },
  {
   "cell_type": "code",
   "execution_count": 96,
   "id": "39e4c9bd-bcb8-4a95-83a0-bbc819a508c7",
   "metadata": {},
   "outputs": [
    {
     "data": {
      "text/plain": [
       "'='"
      ]
     },
     "execution_count": 96,
     "metadata": {},
     "output_type": "execute_result"
    }
   ],
   "source": [
    "'''75. For the given NumPy array, check if byte swapping is necessary for the current system using `dtype` \n",
    "attribute `byteorder`.\n",
    "arr = np.array([1, 2, 3], dtype=np.int32)'''\n",
    "\n",
    "arr = np.array([1, 2, 3], dtype=np.int32)\n",
    "arr1=arr.dtype.byteorder\n",
    "arr1"
   ]
  },
  {
   "cell_type": "code",
   "execution_count": 99,
   "id": "30974ed4-522d-4932-8127-847869960ceb",
   "metadata": {},
   "outputs": [
    {
     "name": "stdout",
     "output_type": "stream",
     "text": [
      "[ 1 34  3  4  5  6  7  8  9 10]\n",
      "[ 1 34  3  4  5  6  7  8  9 10]\n",
      "************************************************\n",
      "[ 1 34  3  4  5  6  7  8  9 10]\n",
      "[ 1  2 22  4  5  6  7  8  9 10]\n"
     ]
    }
   ],
   "source": [
    "'''76. Create a NumPy array `arr1` with values from 1 to 10. Create a copy of `arr1` named `copy_arr` and modify \n",
    "an element in `copy_arr`. Check if modifying `copy_arr` affects `arr1`.''' \n",
    "\n",
    "arr=np.arange(1,11,1)\n",
    "copy_arr=arr.copy()\n",
    "modify_arr=arr\n",
    "modify_arr[1]=34\n",
    "print(modify_arr)\n",
    "print(arr)\n",
    "print(\"************************************************\")\n",
    "copy_arr[2]=22\n",
    "print(arr)\n",
    "print(copy_arr)\n"
   ]
  },
  {
   "cell_type": "code",
   "execution_count": 97,
   "id": "6f24007d-6269-4cf0-8d59-79ef4f92a53e",
   "metadata": {},
   "outputs": [
    {
     "name": "stdout",
     "output_type": "stream",
     "text": [
      "[[2 2 2]\n",
      " [2 2 1]\n",
      " [2 1 1]]\n",
      "[[2 2 2]\n",
      " [2 2 1]]\n"
     ]
    },
    {
     "data": {
      "text/plain": [
       "array([[30,  2,  2],\n",
       "       [ 2,  2,  1]])"
      ]
     },
     "execution_count": 97,
     "metadata": {},
     "output_type": "execute_result"
    }
   ],
   "source": [
    "'''77. Create a 2D NumPy array `matrix` of shape (3, 3) with random integers. Extract a slice `view_slice` from \n",
    "the matrix. Modify an element in `view_slice` and observe if it changes the original `matrix`'''\n",
    "\n",
    "matrix=np.random.randint(1,3,(3,3))\n",
    "print(matrix)\n",
    "view_slice = matrix[0:2]\n",
    "print(view_slice)\n",
    "view_slice[0,0]=30\n",
    "view_slice"
   ]
  },
  {
   "cell_type": "code",
   "execution_count": 98,
   "id": "8c4c7b2b-f5ec-4a42-be55-7cff3765f7a9",
   "metadata": {},
   "outputs": [
    {
     "name": "stdout",
     "output_type": "stream",
     "text": [
      "[[ 1  2  3]\n",
      " [ 4  5  6]\n",
      " [ 7  8  9]\n",
      " [10 11 12]]\n",
      "[[1 2 3]\n",
      " [4 5 6]]\n",
      "[[ 6  7  8]\n",
      " [ 9 10 11]]\n"
     ]
    }
   ],
   "source": [
    "'''78. Create a NumPy array `array_a` of shape (4, 3) with sequential integers from 1 to 12. Extract a slice \n",
    "`view_b` from `array_a` and broadcast the addition of 5 to view_b. Check if it alters the original `array_a`.'''\n",
    "matrix=np.arange(1,13).reshape(4,3)\n",
    "print(matrix)\n",
    "view_b = matrix[0:2]\n",
    "print(view_b)\n",
    "view_b+=5\n",
    "print(view_b)\n",
    "\n",
    "\n"
   ]
  },
  {
   "cell_type": "code",
   "execution_count": 100,
   "id": "d6f38809-39fd-46c6-bd7e-131417fc749b",
   "metadata": {},
   "outputs": [
    {
     "name": "stdout",
     "output_type": "stream",
     "text": [
      "[[1 2]\n",
      " [3 4]\n",
      " [5 6]\n",
      " [7 8]]\n",
      "[[ 1  2]\n",
      " [ 3 36]\n",
      " [ 5  6]\n",
      " [ 7  8]]\n"
     ]
    }
   ],
   "source": [
    "'''79. Create a NumPy array `orig_array` of shape (2, 4) with values from 1 to 8. Create a reshaped view \n",
    "`reshaped_view` of shape (4, 2) from orig_array. Modify an element in `reshaped_view` and check if it \n",
    "reflects changes in the original `orig_array'''\n",
    "\n",
    "orig_array=np.arange(1,9).reshape(2,4)\n",
    "reshaped_view=np.arange(1,9).reshape(4,2)\n",
    "print(reshaped_view)\n",
    "reshaped_view[1,1]=36\n",
    "print(reshaped_view)\n",
    "\n"
   ]
  },
  {
   "cell_type": "code",
   "execution_count": 101,
   "id": "0d72075c-1cae-45fe-8210-c4d59a48674c",
   "metadata": {},
   "outputs": [
    {
     "name": "stdout",
     "output_type": "stream",
     "text": [
      "[[4 1 4 1]\n",
      " [5 4 8 8]\n",
      " [7 3 1 1]]\n",
      "**********************************8\n",
      "[8 8 7]\n",
      "#####################################\n",
      "[5 8 7]\n"
     ]
    }
   ],
   "source": [
    "'''80. Create a NumPy array `data` of shape (3, 4) with random integers. Extract a copy `data_copy` of \n",
    "elements greater than 5. Modify an element in `data_copy` and verify if it affects the original `data`.'''\n",
    "\n",
    "data=np.random.randint(1,13,(3,4))\n",
    "print(data)\n",
    "print('**********************************8')\n",
    "data_copy=data[data>5].copy()\n",
    "print(data_copy)\n",
    "print('#####################################')\n",
    "data_copy[0]=5\n",
    "print(data_copy)"
   ]
  },
  {
   "cell_type": "code",
   "execution_count": 102,
   "id": "9515087b-0754-44e3-86d5-45bcaae37a2e",
   "metadata": {},
   "outputs": [
    {
     "name": "stdout",
     "output_type": "stream",
     "text": [
      "[[12 14 16]\n",
      " [18 20 22]\n",
      " [24 26 28]\n",
      " [30 32 34]]\n",
      "&&&&&&&&&&&&&&&&&&&&&&&&&&\n",
      "[[10 10 10]\n",
      " [10 10 10]\n",
      " [10 10 10]\n",
      " [10 10 10]]\n"
     ]
    }
   ],
   "source": [
    "'''81. Create two matrices A and B of identical shape containing integers and perform addition and subtraction \n",
    "operations between them.'''\n",
    "matrix1=np.arange(1,13).reshape(4,3)\n",
    "matrix2=np.arange(11,23).reshape(4,3)\n",
    "matrix3=matrix1+matrix2\n",
    "matrix4=matrix2-matrix1\n",
    "print(matrix3)\n",
    "print(\"&&&&&&&&&&&&&&&&&&&&&&&&&&\")\n",
    "print(matrix4)"
   ]
  },
  {
   "cell_type": "code",
   "execution_count": 103,
   "id": "acd5bc90-b0e7-4897-a52d-9b12bf23441d",
   "metadata": {},
   "outputs": [
    {
     "name": "stdout",
     "output_type": "stream",
     "text": [
      "[[ 29  32  35  38]\n",
      " [ 65  72  79  86]\n",
      " [101 112 123 134]]\n"
     ]
    }
   ],
   "source": [
    "#82. Generate two matrices `C` (3x2) and `D` (2x4) and perform matrix multiplication.\n",
    "\n",
    "C = np.array([[1, 2],\n",
    "              [3, 4],\n",
    "              [5, 6]])\n",
    "D = np.array([[7, 8, 9, 10],\n",
    "              [11, 12, 13, 14]])\n",
    "result = np.dot(C, D)\n",
    "print(result)"
   ]
  },
  {
   "cell_type": "code",
   "execution_count": 104,
   "id": "815f04b4-b8ea-4179-b5f6-fd8d4d65b3ec",
   "metadata": {},
   "outputs": [
    {
     "data": {
      "text/plain": [
       "array([[1, 3, 5],\n",
       "       [2, 4, 6]])"
      ]
     },
     "execution_count": 104,
     "metadata": {},
     "output_type": "execute_result"
    }
   ],
   "source": [
    "#83. Create a matrix `E` and find its transpose.\n",
    "\n",
    "E = np.array([[1, 2],\n",
    "              [3, 4],\n",
    "              [5, 6]])\n",
    "F=E.T\n",
    "F"
   ]
  },
  {
   "cell_type": "code",
   "execution_count": 105,
   "id": "fbcc0780-0099-48dd-bfa7-9bbe734886ce",
   "metadata": {},
   "outputs": [
    {
     "name": "stdout",
     "output_type": "stream",
     "text": [
      "Numpy Matrix is:\n",
      "[[50 29]\n",
      " [30 44]]\n",
      "\n",
      "Determinant of given 2X2 matrix:\n",
      "1330\n"
     ]
    }
   ],
   "source": [
    "# 84 Generate a square matrix `F` and compute its determinant\n",
    "\n",
    "n_array = np.array([[50, 29], [30, 44]]) \n",
    "  \n",
    "print(\"Numpy Matrix is:\") \n",
    "print(n_array) \n",
    "det = np.linalg.det(n_array) \n",
    "print(\"\\nDeterminant of given 2X2 matrix:\") \n",
    "print(int(det)) \n",
    "\n",
    "\n"
   ]
  },
  {
   "cell_type": "code",
   "execution_count": 106,
   "id": "4e7e3eb4-a1cc-4e91-83c8-b820a610e2aa",
   "metadata": {},
   "outputs": [
    {
     "name": "stdout",
     "output_type": "stream",
     "text": [
      "Numpy Matrix is:\n",
      "[[50 29]\n",
      " [30 44]]\n"
     ]
    },
    {
     "data": {
      "text/plain": [
       "array([[ 0.03308271, -0.02180451],\n",
       "       [-0.02255639,  0.03759398]])"
      ]
     },
     "execution_count": 106,
     "metadata": {},
     "output_type": "execute_result"
    }
   ],
   "source": [
    "#85. Create a square matrix `G` and find its inverse.\n",
    "\n",
    "n_array = np.array([[50, 29], [30, 44]]) \n",
    "print(\"Numpy Matrix is:\") \n",
    "print(n_array) \n",
    "inv = np.linalg.inv(n_array) \n",
    "inv\n",
    "\n",
    "\n"
   ]
  },
  {
   "cell_type": "code",
   "execution_count": null,
   "id": "d3b1c591-4d68-4b71-8078-4d38ae7b95f4",
   "metadata": {},
   "outputs": [],
   "source": []
  }
 ],
 "metadata": {
  "kernelspec": {
   "display_name": "Python 3 (ipykernel)",
   "language": "python",
   "name": "python3"
  },
  "language_info": {
   "codemirror_mode": {
    "name": "ipython",
    "version": 3
   },
   "file_extension": ".py",
   "mimetype": "text/x-python",
   "name": "python",
   "nbconvert_exporter": "python",
   "pygments_lexer": "ipython3",
   "version": "3.11.7"
  }
 },
 "nbformat": 4,
 "nbformat_minor": 5
}
